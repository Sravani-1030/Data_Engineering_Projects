{
 "cells": [
  {
   "cell_type": "markdown",
   "id": "fee77615-f9c6-45b4-b32d-c3d672b1dc77",
   "metadata": {},
   "source": [
    "# Data Modelling Project"
   ]
  },
  {
   "cell_type": "markdown",
   "id": "bb186a7a-0abd-43de-8a93-96fc7883ff5d",
   "metadata": {},
   "source": [
    "### Data Modelling: Data modeling means first getting the data sets then identifying which columns we require for our analysis then creating an Entity model by establishing relations between the tables/data sets. Then create a database and tables and then load the cleaned data sets with specified columns into the tables we created in the database."
   ]
  },
  {
   "cell_type": "markdown",
   "id": "9abaacc7-76f5-4c1f-ac7c-fddfdc809b8a",
   "metadata": {},
   "source": [
    "# The datasets I used for the project \n",
    "#### C:\\Users\\gajul\\OneDrive\\Data_science\\Datasets_DataModelling"
   ]
  },
  {
   "cell_type": "markdown",
   "id": "7f64dac2-57dd-4c34-8b56-361bb8ef9ab7",
   "metadata": {},
   "source": [
    "### Reading the dataset files using pandas\n",
    "As they are csv files we are just using pandas to read them"
   ]
  },
  {
   "cell_type": "code",
   "execution_count": null,
   "id": "c3fce85b-815c-42c1-a97d-1571ecb4b0e0",
   "metadata": {},
   "outputs": [],
   "source": [
    "import pandas as pd"
   ]
  },
  {
   "cell_type": "code",
   "execution_count": null,
   "id": "6f26fe19-da92-4716-b1a1-4d89318b30a9",
   "metadata": {},
   "outputs": [],
   "source": [
    "Account_country = pd.read_csv(\"C:/Users/gajul/OneDrive/Data_science/Datasets_DataModelling/Wealth-AccountsCountry.csv\")"
   ]
  },
  {
   "cell_type": "code",
   "execution_count": null,
   "id": "0da01e6f-3f64-4b9c-a603-7462b4f33b96",
   "metadata": {},
   "outputs": [],
   "source": [
    "Account_country.head()"
   ]
  },
  {
   "cell_type": "code",
   "execution_count": null,
   "id": "7dbcca88-94fe-4ef0-9590-02d6c6c8ca16",
   "metadata": {},
   "outputs": [],
   "source": [
    "Account_country_cleaned = Account_country[[\"Code\", \"Short Name\", \"Table Name\", \"Long Name\", \"Currency Unit\"]]"
   ]
  },
  {
   "cell_type": "code",
   "execution_count": null,
   "id": "6d47c1f4-2bcd-40c0-a887-ce0aa12bd641",
   "metadata": {},
   "outputs": [],
   "source": [
    "Account_country_cleaned.head()"
   ]
  },
  {
   "cell_type": "code",
   "execution_count": null,
   "id": "8e46358a-52da-49d8-8e30-fd767849e361",
   "metadata": {},
   "outputs": [],
   "source": [
    "Account_Data = pd.read_csv(\"C:/Users/gajul/OneDrive/Data_science/Datasets_DataModelling/Wealth-AccountData.csv\")"
   ]
  },
  {
   "cell_type": "code",
   "execution_count": null,
   "id": "7ffe37ff-2df7-4734-b5f5-60b2578e0aea",
   "metadata": {},
   "outputs": [],
   "source": [
    "Account_Data.columns"
   ]
  },
  {
   "cell_type": "code",
   "execution_count": null,
   "id": "8832eea8-0a80-423c-8d6c-87aaf5d36c06",
   "metadata": {},
   "outputs": [],
   "source": [
    "Account_Data_Cleaned =  Account_Data.drop (['2011 [YR2011]', '2012 [YR2012]', '2013 [YR2013]', '2014 [YR2014]',\n",
    "       '2015 [YR2015]', '2016 [YR2016]', '2017 [YR2017]', '2018 [YR2018]'], axis =1)"
   ]
  },
  {
   "cell_type": "code",
   "execution_count": null,
   "id": "d5c8f289-20a4-448d-8f09-0a7613e2ec05",
   "metadata": {},
   "outputs": [],
   "source": [
    "Account_Data_Cleaned.head()"
   ]
  },
  {
   "cell_type": "code",
   "execution_count": null,
   "id": "6fe10a02-402f-4d60-9f99-0ca8a1c46090",
   "metadata": {},
   "outputs": [],
   "source": [
    "Account_Data.rename(columns = {\"Series Name\" : \"Indicator Name\"}, inplace=True)"
   ]
  },
  {
   "cell_type": "code",
   "execution_count": null,
   "id": "1c8a8961-690c-4070-b58c-20e6f448d388",
   "metadata": {},
   "outputs": [],
   "source": [
    "Account_Data.head()"
   ]
  },
  {
   "cell_type": "code",
   "execution_count": null,
   "id": "71c218d0-ae26-4e68-9a2b-6af8e5b3e595",
   "metadata": {},
   "outputs": [],
   "source": [
    "Account_Series = pd.read_csv(\"C:/Users/gajul/OneDrive/Data_science/Datasets_DataModelling/Wealth-AccountSeries.csv\")"
   ]
  },
  {
   "cell_type": "code",
   "execution_count": null,
   "id": "869d9969-0399-43f8-92ef-8858c6ee731b",
   "metadata": {},
   "outputs": [],
   "source": [
    "Account_Series.rename(columns = {\"Code\" : \"Series Code\"}, inplace=True)"
   ]
  },
  {
   "cell_type": "code",
   "execution_count": null,
   "id": "36c57a5b-f637-4b0e-a321-5137cce97b75",
   "metadata": {},
   "outputs": [],
   "source": [
    "Account_Series.head()"
   ]
  },
  {
   "cell_type": "code",
   "execution_count": null,
   "id": "166c40eb-ae2d-4a39-a7ec-c7926488c6be",
   "metadata": {},
   "outputs": [],
   "source": [
    "# Account_Series = Account_Series.drop([\"Previous Indicator Code\", \"Previous Indicator Name\"], axis=1)\n",
    "Account_Series_Cleaned= Account_Series[[\"Series Code\", \"Topic\", \"Indicator Name\"]]"
   ]
  },
  {
   "cell_type": "code",
   "execution_count": null,
   "id": "7c0dd63c-07f0-4095-b537-827234f2c10f",
   "metadata": {},
   "outputs": [],
   "source": [
    "Account_Series_Cleaned.head()"
   ]
  },
  {
   "cell_type": "markdown",
   "id": "b9510488-52b5-434a-84ac-a9cb30d1e977",
   "metadata": {},
   "source": [
    "# Creating databases and Tables.  \n",
    "Using functions to create databases and tables as their functionalities require multiple times"
   ]
  },
  {
   "cell_type": "code",
   "execution_count": null,
   "id": "c2b6a720-845e-488a-b169-056a024eab17",
   "metadata": {},
   "outputs": [],
   "source": []
  },
  {
   "cell_type": "code",
   "execution_count": null,
   "id": "523a8df6-3f5f-4af5-8293-cbf6f65de4d4",
   "metadata": {},
   "outputs": [],
   "source": [
    "import psycopg2"
   ]
  },
  {
   "cell_type": "code",
   "execution_count": null,
   "id": "f689c827-0358-43d3-b3df-412a2188ac0f",
   "metadata": {},
   "outputs": [],
   "source": [
    "#Establishing a connection with the \n",
    "\n",
    "conn = psycopg2.connect(\"host=localhost dbname =postgres user=postgres password =0427\")\n",
    "conn.set_session(autocommit = True)\n",
    "cur= conn.cursor()\n",
    "#cur.execute(\"DROP DATABASE IF EXISTS Accounts\")\n",
    "#cur.execute(\"CREATE DATABASE Accounts\")\n",
    "cur.close()\n",
    "conn.close()\n",
    "conn = psycopg2.connect(\"host=localhost dbname =accounts user=postgres password =0427\")\n",
    "cur =conn.cursor()"
   ]
  },
  {
   "cell_type": "code",
   "execution_count": null,
   "id": "0986f8b0-6073-4e3d-90b0-365a09c2dfe7",
   "metadata": {},
   "outputs": [],
   "source": [
    "#cur.execute(\"DROP TABLE account_country\")"
   ]
  },
  {
   "cell_type": "code",
   "execution_count": null,
   "id": "a3b0f49a-60e5-4904-8d8e-ab251b6797f2",
   "metadata": {},
   "outputs": [],
   "source": [
    "cur.execute(\"CREATE TABLE IF NOT EXISTS account_country(\\\n",
    "                              Country_Code Varchar,\\\n",
    "                              Short_Name Varchar,\\\n",
    "                              Table_Name Varchar,\\\n",
    "                              Long_Name Varchar,\\\n",
    "                              Currency_Unit Varchar)\")\n",
    "conn.commit()\n",
    "\n",
    "                         "
   ]
  },
  {
   "cell_type": "code",
   "execution_count": null,
   "id": "762bf5f2-59ba-4f17-bcf2-3dace06f584f",
   "metadata": {},
   "outputs": [],
   "source": [
    "cur.execute(\"CREATE TABLE IF NOT EXISTS account_data(\\\n",
    "            Country_Name Varchar,\\\n",
    "            Country_Code Varchar,\\\n",
    "            Indicator_Name Varchar,\\\n",
    "            Series_Code Varchar,\\\n",
    "            year_1995 decimal,\\\n",
    "            year_1996 decimal,\\\n",
    "            year_1997 decimal,\\\n",
    "            year_1998 decimal,\\\n",
    "            year_1999 decimal,\\\n",
    "            year_2000 decimal,\\\n",
    "            year_2001 decimal,\\\n",
    "            year_2002 decimal,\\\n",
    "            year_2003 decimal,\\\n",
    "            year_2004 decimal,\\\n",
    "            year_2005 decimal,\\\n",
    "            year_2006 decimal,\\\n",
    "            year_2007 decimal,\\\n",
    "            year_2008 decimal,\\\n",
    "            year_2009 decimal,\\\n",
    "            year_2010 decimal)\")\n",
    "conn.commit()   "
   ]
  },
  {
   "cell_type": "code",
   "execution_count": null,
   "id": "9e7b7a2c-55eb-4934-9551-33a688d5206f",
   "metadata": {},
   "outputs": [],
   "source": [
    "# cur.execute(\"CREATE TABLE IF NOT EXISTS account_series(\\\n",
    "#             Series_code Varchar,\\\n",
    "#             Topic Varchar,\\\n",
    "#             Indicator_Name)\")\n",
    "# conn.commit()\n"
   ]
  },
  {
   "cell_type": "markdown",
   "id": "1d9d2bd9-8fd5-4d06-907e-20c8ddc7cfc7",
   "metadata": {},
   "source": [
    "# Insering data into Database"
   ]
  },
  {
   "cell_type": "code",
   "execution_count": null,
   "id": "3f2777cf-701a-4c26-81e4-fd3870bf3b2d",
   "metadata": {},
   "outputs": [],
   "source": [
    "accounts_country_table_insert = (\"INSERT INTO account_country(\\\n",
    "Country_Code,\\\n",
    "Short_Name,\\\n",
    "Table_Name,\\\n",
    "Long_Name,\\\n",
    "Currency_Unit)\\\n",
    "VALUES (%s, %s, %s, %s,%s)\")"
   ]
  },
  {
   "cell_type": "code",
   "execution_count": null,
   "id": "96444857-b3ea-468b-bc02-08ddad47c95e",
   "metadata": {},
   "outputs": [],
   "source": [
    "for i, row in Account_country_cleaned.iterrows():\n",
    "    cur.execute(accounts_country_table_insert, list(row))"
   ]
  },
  {
   "cell_type": "code",
   "execution_count": null,
   "id": "a4052ea4-855e-4b2a-833a-a4c706318b5e",
   "metadata": {},
   "outputs": [],
   "source": [
    "conn.commit()"
   ]
  },
  {
   "cell_type": "code",
   "execution_count": null,
   "id": "90473455-04d5-42d5-8854-88e300dd257d",
   "metadata": {},
   "outputs": [],
   "source": [
    "accounts_data_table_insert = (\"INSERT INTO account_data(\\\n",
    "            Country_Name,\\\n",
    "            Country_Code,\\\n",
    "            Indicator_Name,\\\n",
    "            Series_Code,\\\n",
    "            year_1995,\\\n",
    "            year_1996,\\\n",
    "            year_1997,\\\n",
    "            year_1998,\\\n",
    "            year_1999,\\\n",
    "            year_2000,\\\n",
    "            year_2001,\\\n",
    "            year_2002,\\\n",
    "            year_2003,\\\n",
    "            year_2004,\\\n",
    "            year_2005,\\\n",
    "            year_2006,\\\n",
    "            year_2007,\\\n",
    "            year_2008,\\\n",
    "            year_2009,\\\n",
    "            year_2010)\\\n",
    "            VALUES (%s,%s,%s,%s,%s,%s,%s,%s,%s,%s,%s,%s,%s,%s,%s,%s,%s,%s,%s,%s)\")\n"
   ]
  },
  {
   "cell_type": "code",
   "execution_count": null,
   "id": "1b3c7281-e257-4753-b80d-2cfc99bdc49a",
   "metadata": {},
   "outputs": [],
   "source": [
    "import numpy as np\n",
    "def g(df):\n",
    "    for i, row in df.iterrows():\n",
    "        try:\n",
    "            # Replace '..' with NaN\n",
    "            row = row.replace('..', np.NAN)\n",
    "            yield list(row)\n",
    "        except:\n",
    "            pass"
   ]
  },
  {
   "cell_type": "code",
   "execution_count": null,
   "id": "358e6020-1afa-4765-a927-e4ab934b5e67",
   "metadata": {},
   "outputs": [],
   "source": [
    "account_data_cleaned_2 = pd.DataFrame(list(g(Account_Data_Cleaned.copy())))"
   ]
  },
  {
   "cell_type": "code",
   "execution_count": null,
   "id": "5f1ddce4-283b-4cce-a45b-41e8f5e98844",
   "metadata": {},
   "outputs": [],
   "source": [
    "for i, row in account_data_cleaned_2.iterrows():\n",
    "    cur.execute(accounts_data_table_insert, list(row))\n",
    "    #print(list(row))"
   ]
  },
  {
   "cell_type": "code",
   "execution_count": null,
   "id": "c786aebb-78c3-4402-b0b5-219b809ae9e3",
   "metadata": {},
   "outputs": [],
   "source": [
    "account_series_inserted = (\"INSERT INTO account_series(\\\n",
    "                            Series_Code,\\\n",
    "                            Topic,\\\n",
    "                            Indicator_Name)\\\n",
    "                            VALUES (%s,%s,%s)\")\n",
    "                                            "
   ]
  },
  {
   "cell_type": "code",
   "execution_count": null,
   "id": "717da39b-0006-449e-afe3-dcc68e5b238a",
   "metadata": {},
   "outputs": [],
   "source": [
    "for i, row in Account_Series_Cleaned.iterrows():\n",
    "    cur.execute(account_series_inserted, list(row))\n",
    "conn.commit()"
   ]
  },
  {
   "cell_type": "code",
   "execution_count": null,
   "id": "4956b10b-860b-49e4-8376-05fe5acd39a1",
   "metadata": {},
   "outputs": [],
   "source": [
    "Account_Series.head()"
   ]
  },
  {
   "cell_type": "code",
   "execution_count": null,
   "id": "34379e4d-b5ff-46db-802b-b6831807ebbe",
   "metadata": {},
   "outputs": [],
   "source": []
  }
 ],
 "metadata": {
  "kernelspec": {
   "display_name": "Python 3 (ipykernel)",
   "language": "python",
   "name": "python3"
  },
  "language_info": {
   "codemirror_mode": {
    "name": "ipython",
    "version": 3
   },
   "file_extension": ".py",
   "mimetype": "text/x-python",
   "name": "python",
   "nbconvert_exporter": "python",
   "pygments_lexer": "ipython3",
   "version": "3.11.7"
  }
 },
 "nbformat": 4,
 "nbformat_minor": 5
}
